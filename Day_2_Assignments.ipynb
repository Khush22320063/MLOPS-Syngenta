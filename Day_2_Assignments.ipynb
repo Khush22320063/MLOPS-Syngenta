{
 "cells": [
  {
   "cell_type": "markdown",
   "metadata": {},
   "source": [
    "<h3>1. Reverse the whole string</h3>"
   ]
  },
  {
   "cell_type": "code",
   "execution_count": 1,
   "metadata": {},
   "outputs": [
    {
     "name": "stdout",
     "output_type": "stream",
     "text": [
      ".hsuhK ma I ,olleH\n"
     ]
    }
   ],
   "source": [
    "def str_reverser(str):\n",
    "    return str[::-1]\n",
    "\n",
    "print(str_reverser(\"Hello, I am Khush.\"))"
   ]
  },
  {
   "cell_type": "markdown",
   "metadata": {},
   "source": [
    "<h3>2. Write down a function which will accept list of words as input and filter the words whose length is less than 3, use list comprehension.</h3>\n",
    "<h5><br>Example: For input [\"hi\", \"I\",\"am\",\"new\",\"python\", \"programmer\"] output should be [\"hi\", \"I\",\"am\"]</h5>"
   ]
  },
  {
   "cell_type": "code",
   "execution_count": 4,
   "metadata": {},
   "outputs": [
    {
     "name": "stdout",
     "output_type": "stream",
     "text": [
      "['is', 'a']\n"
     ]
    }
   ],
   "source": [
    "def short_word_extractor(li):\n",
    "    return [newli for newli in li if len(newli)<3]\n",
    "\n",
    "li=(\"This\", \"is\", \"a\", \"beautiful\", \"day\")\n",
    "print(short_word_extractor(li))"
   ]
  },
  {
   "cell_type": "markdown",
   "metadata": {},
   "source": [
    "<h3>3. Write a program to create a list of cubes of first 10 positive integers using list comprehension i.e, [1, 8, 27, 64, 125, 216, 343, 512, 729]</h3>"
   ]
  },
  {
   "cell_type": "code",
   "execution_count": 8,
   "metadata": {},
   "outputs": [
    {
     "name": "stdout",
     "output_type": "stream",
     "text": [
      "[1, 8, 27, 64, 125, 216, 343, 512, 729]\n"
     ]
    }
   ],
   "source": [
    "li=[x**3 for x in range(1,10) ]\n",
    "\n",
    "print(li)"
   ]
  }
 ],
 "metadata": {
  "kernelspec": {
   "display_name": "Python 3",
   "language": "python",
   "name": "python3"
  },
  "language_info": {
   "codemirror_mode": {
    "name": "ipython",
    "version": 3
   },
   "file_extension": ".py",
   "mimetype": "text/x-python",
   "name": "python",
   "nbconvert_exporter": "python",
   "pygments_lexer": "ipython3",
   "version": "3.11.5"
  }
 },
 "nbformat": 4,
 "nbformat_minor": 2
}
